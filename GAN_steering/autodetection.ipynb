{
 "cells": [
  {
   "cell_type": "code",
   "execution_count": null,
   "metadata": {},
   "outputs": [],
   "source": [
    "import torch\n",
    "from transformers import Blip2Processor, Blip2Model, Blip2ForConditionalGeneration\n",
    "from PIL import Image\n",
    "import torchvision.transforms as T"
   ]
  },
  {
   "cell_type": "code",
   "execution_count": null,
   "metadata": {},
   "outputs": [],
   "source": [
    "# Load BLIP-2 model and processor\n",
    "processor = Blip2Processor.from_pretrained(\"Salesforce/blip2-opt-2.7b\")\n",
    "model = Blip2Model.from_pretrained(\"Salesforce/blip2-opt-2.7b\")\n",
    "decoder_model = Blip2ForConditionalGeneration.from_pretrained(\"Salesforce/blip2-opt-2.7b\")\n",
    "\n",
    "# Move models to GPU if available\n",
    "device = 'mps'\n",
    "model = model.to(device)\n",
    "decoder_model = decoder_model.to(device)"
   ]
  },
  {
   "cell_type": "code",
   "execution_count": null,
   "metadata": {},
   "outputs": [],
   "source": [
    "\n",
    "def embed_images(images):\n",
    "    \"\"\"Embed a batch of images using BLIP-2.\n",
    "    \n",
    "    Args:\n",
    "        images (torch.Tensor): Batch of images with shape (B, C, H, W)\n",
    "        \n",
    "    Returns:\n",
    "        torch.Tensor: Image embeddings\n",
    "    \"\"\"\n",
    "    # Convert images to range [0, 1] if they're in [-1, 1]\n",
    "    if images.min() < 0:\n",
    "        images = (images + 1) / 2\n",
    "    \n",
    "    # Convert to PIL Images\n",
    "    transform = T.ToPILImage()\n",
    "    pil_images = [transform(img) for img in images]\n",
    "    \n",
    "    # Process images\n",
    "    inputs = processor(images=pil_images, return_tensors=\"pt\").to(device)\n",
    "    \n",
    "    # Get image embeddings\n",
    "    with torch.no_grad():\n",
    "        outputs = model(**inputs)\n",
    "        image_embeddings = outputs.image_embeds\n",
    "    \n",
    "    return image_embeddings"
   ]
  },
  {
   "cell_type": "code",
   "execution_count": null,
   "metadata": {},
   "outputs": [],
   "source": [
    "def decode_embeddings(image_embeddings, max_length=50):\n",
    "    \"\"\"Decode image embeddings into text descriptions using BLIP-2.\n",
    "    \n",
    "    Args:\n",
    "        image_embeddings (torch.Tensor): Image embeddings from BLIP-2\n",
    "        max_length (int): Maximum length of generated text\n",
    "        \n",
    "    Returns:\n",
    "        list: List of generated text descriptions\n",
    "    \"\"\"\n",
    "    with torch.no_grad():\n",
    "        outputs = decoder_model.generate(\n",
    "            vision_hidden_states=image_embeddings,\n",
    "            max_length=max_length,\n",
    "            num_beams=5,\n",
    "            min_length=5,\n",
    "            top_p=0.9,\n",
    "            repetition_penalty=1.5,\n",
    "            length_penalty=1.0,\n",
    "        )\n",
    "    \n",
    "    # Decode the generated tokens to text\n",
    "    generated_texts = processor.batch_decode(outputs, skip_special_tokens=True)\n",
    "    return generated_texts"
   ]
  },
  {
   "cell_type": "code",
   "execution_count": null,
   "metadata": {},
   "outputs": [],
   "source": [
    "# Load and process test images\n",
    "test_images = torch.load('test_imgs.pt')\n",
    "print(f\"Loaded images shape: {test_images.shape}\")\n",
    "\n",
    "# Get embeddings\n",
    "embeddings = embed_images(test_images)\n",
    "print(f\"Generated embeddings shape: {embeddings.shape}\")\n",
    "\n",
    "# Generate descriptions for a few examples\n",
    "descriptions = decode_embeddings(embeddings[:5])  # Process first 5 images as example\n",
    "for i, desc in enumerate(descriptions):\n",
    "    print(f\"Image {i}: {desc}\") "
   ]
  }
 ],
 "metadata": {
  "kernelspec": {
   "display_name": ".venv",
   "language": "python",
   "name": "python3"
  },
  "language_info": {
   "codemirror_mode": {
    "name": "ipython",
    "version": 3
   },
   "file_extension": ".py",
   "mimetype": "text/x-python",
   "name": "python",
   "nbconvert_exporter": "python",
   "pygments_lexer": "ipython3",
   "version": "3.11.10"
  }
 },
 "nbformat": 4,
 "nbformat_minor": 2
}
