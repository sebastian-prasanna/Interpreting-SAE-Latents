{
 "cells": [
  {
   "cell_type": "code",
   "execution_count": 1,
   "metadata": {},
   "outputs": [],
   "source": [
    "import dnnlib\n",
    "import legacy\n",
    "from latent_dataset import save_latents"
   ]
  },
  {
   "cell_type": "markdown",
   "metadata": {},
   "source": [
    "Saves latents in batches of shape (batch_size, 512) in individual .pt files.\n",
    "\n",
    "You should only have to run this notebook once."
   ]
  },
  {
   "cell_type": "code",
   "execution_count": 2,
   "metadata": {},
   "outputs": [],
   "source": [
    "# downloaded from https://catalog.ngc.nvidia.com/orgs/nvidia/teams/research/models/stylegan2/files\n",
    "\n",
    "FILEPATH = '/Users/spra/Desktop/Personal Projects/CV_final_project/load_pretrained_stylegan/stylegan2-celebahq-256x256.pkl'\n",
    "with dnnlib.util.open_url(FILEPATH) as f:\n",
    "    data = legacy.load_network_pkl(f)\n",
    "    G = data[\"G_ema\"].eval().to(\"mps\")"
   ]
  },
  {
   "cell_type": "code",
   "execution_count": null,
   "metadata": {},
   "outputs": [],
   "source": [
    "TRAIN_LATENTS_PATH = '/Users/spra/Desktop/Personal Projects/CV_final_project/G_w_train_latents'\n",
    "save_latents(G, TRAIN_LATENTS_PATH, num_batches = 10000, device = 'mps', batch_size = 64, use_w_plus = False)"
   ]
  },
  {
   "cell_type": "code",
   "execution_count": null,
   "metadata": {},
   "outputs": [],
   "source": [
    "TEST_LATENTS_PATH = '/Users/spra/Desktop/Personal Projects/CV_final_project/G_w_test_latents'\n",
    "save_latents(G, TRAIN_LATENTS_PATH, num_batches = 2000, device = 'mps', batch_size = 64, use_w_plus = False)"
   ]
  },
  {
   "cell_type": "code",
   "execution_count": null,
   "metadata": {},
   "outputs": [],
   "source": [
    "VAL_LATENTS_PATH = '/Users/spra/Desktop/Personal Projects/CV_final_project/G_w_val_latents'\n",
    "save_latents(G, VAL_LATENTS_PATH, num_batches = 2000, device = 'mps', batch_size = 64, use_w_plus = False)"
   ]
  }
 ],
 "metadata": {
  "kernelspec": {
   "display_name": ".venv",
   "language": "python",
   "name": "python3"
  },
  "language_info": {
   "codemirror_mode": {
    "name": "ipython",
    "version": 3
   },
   "file_extension": ".py",
   "mimetype": "text/x-python",
   "name": "python",
   "nbconvert_exporter": "python",
   "pygments_lexer": "ipython3",
   "version": "3.11.10"
  }
 },
 "nbformat": 4,
 "nbformat_minor": 2
}
